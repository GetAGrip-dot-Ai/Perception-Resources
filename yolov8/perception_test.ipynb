{
 "cells": [
  {
   "cell_type": "code",
   "execution_count": 2,
   "metadata": {
    "collapsed": true
   },
   "outputs": [
    {
     "name": "stderr",
     "output_type": "stream",
     "text": [
      "Ultralytics YOLOv8.0.43 🚀 Python-3.10.6 torch-1.13.1+cu117 CUDA:0 (NVIDIA GeForce RTX 3050 Laptop GPU, 3910MiB)\n",
      "Setup complete ✅ (16 CPUs, 27.1 GB RAM, 82.7/386.2 GB disk)\n"
     ]
    }
   ],
   "source": [
    "!pip install ultralytics\n",
    "!pip install tqdm --upgrade\n",
    "\n",
    "import os\n",
    "import shutil\n",
    "import random\n",
    "\n",
    "import ultralytics\n",
    "ultralytics.checks()"
   ]
  },
  {
   "cell_type": "code",
   "execution_count": null,
   "outputs": [],
   "source": [
    "test_path = \"./data/test\""
   ],
   "metadata": {
    "collapsed": false,
    "pycharm": {
     "is_executing": true
    }
   }
  },
  {
   "cell_type": "code",
   "execution_count": 6,
   "outputs": [
    {
     "name": "stdout",
     "output_type": "stream",
     "text": [
      "Traceback (most recent call last):\r\n",
      "  File \"/home/jy/PycharmProjects/Perception-Resources/venv/bin/yolo\", line 8, in <module>\r\n",
      "    sys.exit(entrypoint())\r\n",
      "  File \"/home/jy/PycharmProjects/Perception-Resources/venv/lib/python3.10/site-packages/ultralytics/yolo/cfg/__init__.py\", line 281, in entrypoint\r\n",
      "    model = YOLO(model)\r\n",
      "  File \"/home/jy/PycharmProjects/Perception-Resources/venv/lib/python3.10/site-packages/ultralytics/yolo/engine/model.py\", line 99, in __init__\r\n",
      "    self._load(model)\r\n",
      "  File \"/home/jy/PycharmProjects/Perception-Resources/venv/lib/python3.10/site-packages/ultralytics/yolo/engine/model.py\", line 128, in _load\r\n",
      "    self.model, self.ckpt = attempt_load_one_weight(weights)\r\n",
      "  File \"/home/jy/PycharmProjects/Perception-Resources/venv/lib/python3.10/site-packages/ultralytics/nn/tasks.py\", line 394, in attempt_load_one_weight\r\n",
      "    ckpt, weight = torch_safe_load(weight)  # load ckpt\r\n",
      "  File \"/home/jy/PycharmProjects/Perception-Resources/venv/lib/python3.10/site-packages/ultralytics/nn/tasks.py\", line 338, in torch_safe_load\r\n",
      "    file = attempt_download_asset(weight)  # search online if missing locally\r\n",
      "  File \"/home/jy/PycharmProjects/Perception-Resources/venv/lib/python3.10/site-packages/ultralytics/yolo/utils/downloads.py\", line 178, in attempt_download_asset\r\n",
      "    file.parent.mkdir(parents=True, exist_ok=True)  # make parent dir (if required)\r\n",
      "  File \"/usr/lib/python3.10/pathlib.py\", line 1175, in mkdir\r\n",
      "    self._accessor.mkdir(self, mode)\r\n",
      "PermissionError: [Errno 13] Permission denied: '/weights'\r\n"
     ]
    }
   ],
   "source": [
    "!yolo task=detect mode=predict model=/weights/best.pt conf=0.55 source=0 save=True"
   ],
   "metadata": {
    "collapsed": false
   }
  },
  {
   "cell_type": "code",
   "execution_count": 5,
   "outputs": [
    {
     "name": "stdout",
     "output_type": "stream",
     "text": [
      "cp: cannot stat '/content/runs/detect/predict': No such file or directory\r\n"
     ]
    }
   ],
   "source": [
    "!cp -r /content/runs/detect/predict /content/drive/MyDrive/PepperData/YOLOv8/output/021423_1826"
   ],
   "metadata": {
    "collapsed": false
   }
  },
  {
   "cell_type": "code",
   "execution_count": null,
   "outputs": [],
   "source": [
    "!yolo task=detect mode=predict model=/content/drive/MyDrive/PepperData/YOLOv8/training_results/pepper3/weights/best.pt conf=0.77 source=0 save=True"
   ],
   "metadata": {
    "collapsed": false
   }
  }
 ],
 "metadata": {
  "kernelspec": {
   "display_name": "Python 3",
   "language": "python",
   "name": "python3"
  },
  "language_info": {
   "codemirror_mode": {
    "name": "ipython",
    "version": 2
   },
   "file_extension": ".py",
   "mimetype": "text/x-python",
   "name": "python",
   "nbconvert_exporter": "python",
   "pygments_lexer": "ipython2",
   "version": "2.7.6"
  }
 },
 "nbformat": 4,
 "nbformat_minor": 0
}
