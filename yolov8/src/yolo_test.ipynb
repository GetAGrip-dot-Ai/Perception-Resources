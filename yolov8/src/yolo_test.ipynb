{
 "cells": [
  {
   "cell_type": "code",
   "execution_count": 1,
   "metadata": {
    "collapsed": true
   },
   "outputs": [],
   "source": [
    "import cv2\n",
    "import matplotlib.pyplot as plt\n",
    "from ultralytics import YOLO\n",
    "import ultralytics\n",
    "import numpy as np\n",
    "import os"
   ]
  },
  {
   "cell_type": "code",
   "execution_count": 11,
   "outputs": [
    {
     "name": "stderr",
     "output_type": "stream",
     "text": [
      "Ultralytics YOLOv8.0.43 🚀 Python-3.10.6 torch-1.13.1+cu117 CUDA:0 (NVIDIA GeForce RTX 3050 Laptop GPU, 3902MiB)\n",
      "Setup complete ✅ (16 CPUs, 27.1 GB RAM, 145.8/386.2 GB disk)\n"
     ]
    }
   ],
   "source": [
    "\n",
    "ultralytics.checks()\n",
    "# Basic Parameters\n",
    "model = YOLO(\"../weights/pepper_peduncle_best.pt\")\n",
    "path = '/home/jy/PycharmProjects/Perception-Resources/dataset/peduncle'\n",
    "\n",
    "classes = [\"pepper\"]\n",
    "COLORS = np.random.uniform(0, 255, size=(len(classes), 3))\n"
   ],
   "metadata": {
    "collapsed": false
   }
  },
  {
   "cell_type": "code",
   "execution_count": 18,
   "outputs": [],
   "source": [
    "def read_image(img_path):\n",
    "    img = cv2.imread(img_path)\n",
    "    img = np.asarray(img)\n",
    "    return img\n",
    "def all_images_in_folder(path):\n",
    "    img_list = list()\n",
    "    for dirs, subdir, files in os.walk(path):\n",
    "        for file_name in files:\n",
    "            if file_name.endswith(\".jpeg\") or file_name.endswith(\".jpg\") or file_name.endswith(\".png\"):\n",
    "                rgb_file = dirs + os.sep + file_name\n",
    "                img_list.append(rgb_file)\n",
    "    # print(\"all images in folder: \", img_list)\n",
    "    return img_list"
   ],
   "metadata": {
    "collapsed": false
   }
  },
  {
   "cell_type": "code",
   "execution_count": 21,
   "outputs": [
    {
     "name": "stderr",
     "output_type": "stream",
     "text": [
      "\n",
      "0: 448x640 1 peduncle, 62.0ms\n",
      "Speed: 7.1ms preprocess, 62.0ms inference, 1.6ms postprocess per image at shape (1, 3, 640, 640)\n"
     ]
    },
    {
     "name": "stdout",
     "output_type": "stream",
     "text": [
      "/home/jy/PycharmProjects/Perception-Resources/dataset/peduncle/istockphoto-117249280-612x612.jpg\n",
      "masks:  tensor([[[0., 0., 0.,  ..., 0., 0., 0.],\n",
      "         [0., 0., 0.,  ..., 0., 0., 0.],\n",
      "         [0., 0., 0.,  ..., 0., 0., 0.],\n",
      "         ...,\n",
      "         [0., 0., 0.,  ..., 0., 0., 0.],\n",
      "         [0., 0., 0.,  ..., 0., 0., 0.],\n",
      "         [0., 0., 0.,  ..., 0., 0., 0.]]], device='cuda:0')\n",
      "masks.segments:  [array([[    0.40156,     0.21806],\n",
      "       [    0.39687,     0.22511],\n",
      "       [    0.39531,     0.22511],\n",
      "       [    0.39062,     0.23216],\n",
      "       [    0.38906,     0.23216],\n",
      "       [     0.3875,     0.23451],\n",
      "       [    0.38437,     0.23451],\n",
      "       [    0.38125,      0.2392],\n",
      "       [    0.38125,     0.25095],\n",
      "       [    0.38906,      0.2627],\n",
      "       [    0.39062,      0.2627],\n",
      "       [    0.39375,      0.2674],\n",
      "       [    0.39375,     0.26975],\n",
      "       [    0.39531,      0.2721],\n",
      "       [    0.39687,      0.2721],\n",
      "       [    0.39844,     0.27445],\n",
      "       [        0.4,     0.27445],\n",
      "       [    0.40156,      0.2768],\n",
      "       [    0.40156,     0.27915],\n",
      "       [    0.40312,     0.27915],\n",
      "       [    0.40469,      0.2815],\n",
      "       [    0.40625,      0.2815],\n",
      "       [    0.41719,     0.29794],\n",
      "       [    0.41719,     0.30029],\n",
      "       [    0.41875,     0.30264],\n",
      "       [    0.41875,     0.30734],\n",
      "       [    0.42344,     0.31439],\n",
      "       [    0.42344,     0.31674],\n",
      "       [      0.425,     0.31909],\n",
      "       [      0.425,     0.33318],\n",
      "       [    0.42656,     0.33553],\n",
      "       [    0.42656,     0.34023],\n",
      "       [    0.42969,     0.34493],\n",
      "       [    0.42969,     0.34963],\n",
      "       [    0.43125,     0.35198],\n",
      "       [    0.43125,     0.37548],\n",
      "       [    0.43281,     0.37783],\n",
      "       [    0.43281,     0.38018],\n",
      "       [     0.4375,     0.38722],\n",
      "       [     0.4375,     0.38957],\n",
      "       [    0.43906,     0.39192],\n",
      "       [    0.44062,     0.39192],\n",
      "       [    0.44219,     0.39427],\n",
      "       [    0.45312,     0.39427],\n",
      "       [    0.45469,     0.39192],\n",
      "       [    0.45781,     0.39192],\n",
      "       [    0.46094,     0.38722],\n",
      "       [    0.46406,     0.38722],\n",
      "       [    0.46562,     0.38487],\n",
      "       [    0.47187,     0.38487],\n",
      "       [    0.47344,     0.38252],\n",
      "       [      0.475,     0.38252],\n",
      "       [    0.47656,     0.38018],\n",
      "       [    0.47812,     0.38018],\n",
      "       [    0.47969,     0.37783],\n",
      "       [    0.48125,     0.37783],\n",
      "       [    0.48281,     0.37548],\n",
      "       [    0.49062,     0.37548],\n",
      "       [    0.49219,     0.37313],\n",
      "       [    0.49531,     0.37313],\n",
      "       [        0.5,     0.36608],\n",
      "       [    0.50156,     0.36608],\n",
      "       [    0.50312,     0.36373],\n",
      "       [    0.50469,     0.36373],\n",
      "       [    0.50469,     0.36138],\n",
      "       [    0.50625,     0.35903],\n",
      "       [    0.50625,     0.35668],\n",
      "       [    0.50781,     0.35433],\n",
      "       [    0.50781,     0.35198],\n",
      "       [    0.50469,     0.34728],\n",
      "       [    0.50469,     0.34258],\n",
      "       [    0.49844,     0.33318],\n",
      "       [    0.49844,     0.33084],\n",
      "       [    0.49375,     0.32379],\n",
      "       [    0.49375,     0.32144],\n",
      "       [    0.49219,     0.31909],\n",
      "       [    0.49219,     0.31674],\n",
      "       [    0.47969,     0.29794],\n",
      "       [    0.47969,     0.29559],\n",
      "       [    0.47187,     0.28385],\n",
      "       [    0.47031,     0.28385],\n",
      "       [    0.46719,     0.27915],\n",
      "       [    0.46719,      0.2768],\n",
      "       [    0.46562,     0.27445],\n",
      "       [    0.46406,     0.27445],\n",
      "       [    0.46094,     0.26975],\n",
      "       [    0.46094,      0.2674],\n",
      "       [    0.44844,      0.2486],\n",
      "       [    0.44844,     0.24625],\n",
      "       [    0.43594,     0.22746],\n",
      "       [    0.43437,     0.22746],\n",
      "       [    0.42812,     0.21806]], dtype=float32)]\n",
      "masks.data:  tensor([[[0., 0., 0.,  ..., 0., 0., 0.],\n",
      "         [0., 0., 0.,  ..., 0., 0., 0.],\n",
      "         [0., 0., 0.,  ..., 0., 0., 0.],\n",
      "         ...,\n",
      "         [0., 0., 0.,  ..., 0., 0., 0.],\n",
      "         [0., 0., 0.,  ..., 0., 0., 0.],\n",
      "         [0., 0., 0.,  ..., 0., 0., 0.]]], device='cuda:0')\n"
     ]
    }
   ],
   "source": [
    "img_path = all_images_in_folder(path)[0]\n",
    "print(img_path)\n",
    "inputs = read_image(img_path)\n",
    "results = model(inputs)\n",
    "\n",
    "# print(results)\n",
    "masks = results[0].masks  # Masks object\n",
    "print('masks: ',masks)\n",
    "masks.segments  # bounding coordinates of masks, List[segment] * N\n",
    "print('masks.segments: ',masks.segments)\n",
    "masks.data  # raw masks tensor, (N, H, W) or masks.masks\n",
    "print('masks.data: ',masks.data)"
   ],
   "metadata": {
    "collapsed": false
   }
  },
  {
   "cell_type": "code",
   "execution_count": null,
   "outputs": [],
   "source": [
    "imgs_path = all_images_in_folder(path)\n",
    "for img_path in imgs_path:\n",
    "    inputs = read_image(img_path)\n",
    "    results = model(inputs)\n",
    "    for result in results:\n",
    "        for box in result.boxes:\n",
    "            for real_box in box:\n",
    "                print(real_box.xyxy)\n",
    "    # boxes = results[0].boxes\n",
    "    # box = boxes[0]  # returns one box\n",
    "    # print(box.xyxy)"
   ],
   "metadata": {
    "collapsed": false
   }
  },
  {
   "cell_type": "code",
   "execution_count": null,
   "outputs": [],
   "source": [],
   "metadata": {
    "collapsed": false
   }
  }
 ],
 "metadata": {
  "kernelspec": {
   "display_name": "Python 3",
   "language": "python",
   "name": "python3"
  },
  "language_info": {
   "codemirror_mode": {
    "name": "ipython",
    "version": 2
   },
   "file_extension": ".py",
   "mimetype": "text/x-python",
   "name": "python",
   "nbconvert_exporter": "python",
   "pygments_lexer": "ipython2",
   "version": "2.7.6"
  }
 },
 "nbformat": 4,
 "nbformat_minor": 0
}
