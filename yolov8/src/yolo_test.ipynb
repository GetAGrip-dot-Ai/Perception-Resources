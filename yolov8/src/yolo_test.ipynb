{
 "cells": [
  {
   "cell_type": "code",
   "execution_count": 1,
   "metadata": {
    "collapsed": true
   },
   "outputs": [],
   "source": [
    "import cv2\n",
    "import matplotlib.pyplot as plt\n",
    "from ultralytics import YOLO\n",
    "import ultralytics\n",
    "import numpy as np\n",
    "import os"
   ]
  },
  {
   "cell_type": "code",
   "execution_count": 3,
   "outputs": [
    {
     "name": "stderr",
     "output_type": "stream",
     "text": [
      "Ultralytics YOLOv8.0.43 🚀 Python-3.10.6 torch-1.13.1+cu117 CUDA:0 (NVIDIA GeForce RTX 3050 Laptop GPU, 3902MiB)\n",
      "Setup complete ✅ (16 CPUs, 27.1 GB RAM, 144.7/386.2 GB disk)\n"
     ]
    }
   ],
   "source": [
    "\n",
    "ultralytics.checks()\n",
    "# Basic Parameters\n",
    "model = YOLO(\"../weights/best.pt\")\n",
    "path = '/home/jy/PycharmProjects/Perception-Resources/dataset/testbed'\n",
    "\n",
    "classes = [\"pepper\"]\n",
    "COLORS = np.random.uniform(0, 255, size=(len(classes), 3))\n"
   ],
   "metadata": {
    "collapsed": false
   }
  },
  {
   "cell_type": "code",
   "execution_count": 9,
   "outputs": [],
   "source": [
    "def read_image(img_path):\n",
    "    img = cv2.imread(img_path)\n",
    "    # print(img)\n",
    "    # cv2.imshow(\"image\", img)\n",
    "    # print(\"showed image\")\n",
    "    # cv2.waitKey(0)\n",
    "    # cv2.distroyAllWindows()\n",
    "    return img\n",
    "\n",
    "def all_images_in_folder(path):\n",
    "    img_list = list()\n",
    "    for dirs, subdir, files in os.walk(path):\n",
    "        for file_name in files:\n",
    "            if file_name.endswith(\".jpeg\"):\n",
    "                rgb_file = dirs + os.sep + file_name\n",
    "                img_list.append(rgb_file)\n",
    "    # print(\"all images in folder: \", img_list)\n",
    "    return img_list"
   ],
   "metadata": {
    "collapsed": false
   }
  },
  {
   "cell_type": "code",
   "execution_count": 10,
   "outputs": [],
   "source": [
    "# main_yay(path)\n",
    "model = YOLO(\"../weights/best.pt\")\n"
   ],
   "metadata": {
    "collapsed": false
   }
  },
  {
   "cell_type": "code",
   "execution_count": 11,
   "outputs": [
    {
     "name": "stderr",
     "output_type": "stream",
     "text": [
      "Ultralytics YOLOv8.0.43 🚀 Python-3.10.6 torch-1.13.1+cu117 CUDA:0 (NVIDIA GeForce RTX 3050 Laptop GPU, 3902MiB)\n",
      "Model summary (fused): 268 layers, 43607379 parameters, 0 gradients, 164.8 GFLOPs\n",
      "\n",
      "0: 480x640 3 peppers, 46.5ms\n",
      "Speed: 0.4ms preprocess, 46.5ms inference, 1.2ms postprocess per image at shape (1, 3, 640, 640)\n"
     ]
    },
    {
     "name": "stdout",
     "output_type": "stream",
     "text": [
      "tensor([[ 965., 1123., 1312., 1501.]], device='cuda:0')\n"
     ]
    }
   ],
   "source": [
    "img_path = all_images_in_folder(path)[0]\n",
    "inputs = read_image(img_path)\n",
    "results = model(inputs)\n",
    "\n",
    "boxes = results[0].boxes\n",
    "box = boxes[0]  # returns one box\n",
    "print(box.xyxy)"
   ],
   "metadata": {
    "collapsed": false
   }
  },
  {
   "cell_type": "code",
   "execution_count": 13,
   "outputs": [
    {
     "name": "stderr",
     "output_type": "stream",
     "text": [
      "\n",
      "0: 480x640 3 peppers, 52.3ms\n",
      "Speed: 7.0ms preprocess, 52.3ms inference, 1.2ms postprocess per image at shape (1, 3, 640, 640)\n",
      "\n",
      "0: 480x640 1 pepper, 52.8ms\n",
      "Speed: 0.4ms preprocess, 52.8ms inference, 1.2ms postprocess per image at shape (1, 3, 640, 640)\n"
     ]
    },
    {
     "name": "stdout",
     "output_type": "stream",
     "text": [
      "tensor([[ 965., 1123., 1312., 1501.]], device='cuda:0')\n",
      "tensor([[1956., 1064., 2138., 1243.]], device='cuda:0')\n",
      "tensor([[2100.,  850., 2256.,  993.]], device='cuda:0')\n",
      "tensor([[1948., 1150., 2957., 2155.]], device='cuda:0')\n"
     ]
    },
    {
     "name": "stderr",
     "output_type": "stream",
     "text": [
      "\n",
      "0: 480x640 1 pepper, 48.7ms\n",
      "Speed: 0.4ms preprocess, 48.7ms inference, 1.3ms postprocess per image at shape (1, 3, 640, 640)\n",
      "\n",
      "0: 480x640 1 pepper, 48.7ms\n",
      "Speed: 0.4ms preprocess, 48.7ms inference, 1.2ms postprocess per image at shape (1, 3, 640, 640)\n"
     ]
    },
    {
     "name": "stdout",
     "output_type": "stream",
     "text": [
      "tensor([[1475., 1376., 1828., 1664.]], device='cuda:0')\n",
      "tensor([[1160.,  302., 1584.,  828.]], device='cuda:0')\n"
     ]
    },
    {
     "name": "stderr",
     "output_type": "stream",
     "text": [
      "\n",
      "0: 480x640 3 peppers, 48.7ms\n",
      "Speed: 0.4ms preprocess, 48.7ms inference, 1.3ms postprocess per image at shape (1, 3, 640, 640)\n",
      "\n",
      "0: 480x640 1 pepper, 48.7ms\n",
      "Speed: 0.4ms preprocess, 48.7ms inference, 1.2ms postprocess per image at shape (1, 3, 640, 640)\n"
     ]
    },
    {
     "name": "stdout",
     "output_type": "stream",
     "text": [
      "tensor([[1940.,  720., 2276., 1137.]], device='cuda:0')\n",
      "tensor([[ 747., 1986., 1207., 2449.]], device='cuda:0')\n",
      "tensor([[2912., 1473., 3080., 1617.]], device='cuda:0')\n",
      "tensor([[1589., 1541., 2501., 2446.]], device='cuda:0')\n"
     ]
    },
    {
     "name": "stderr",
     "output_type": "stream",
     "text": [
      "\n",
      "0: 480x640 1 pepper, 45.6ms\n",
      "Speed: 0.4ms preprocess, 45.6ms inference, 1.3ms postprocess per image at shape (1, 3, 640, 640)\n",
      "\n",
      "0: 480x640 1 pepper, 45.6ms\n",
      "Speed: 0.4ms preprocess, 45.6ms inference, 1.2ms postprocess per image at shape (1, 3, 640, 640)\n"
     ]
    },
    {
     "name": "stdout",
     "output_type": "stream",
     "text": [
      "tensor([[1409.,  503., 1794.,  959.]], device='cuda:0')\n",
      "tensor([[1882.,  827., 2244., 1204.]], device='cuda:0')\n"
     ]
    },
    {
     "name": "stderr",
     "output_type": "stream",
     "text": [
      "\n",
      "0: 480x640 1 pepper, 45.7ms\n",
      "Speed: 0.4ms preprocess, 45.7ms inference, 2.5ms postprocess per image at shape (1, 3, 640, 640)\n",
      "\n",
      "0: 480x640 (no detections), 45.7ms\n",
      "Speed: 0.4ms preprocess, 45.7ms inference, 0.6ms postprocess per image at shape (1, 3, 640, 640)\n"
     ]
    },
    {
     "name": "stdout",
     "output_type": "stream",
     "text": [
      "tensor([[1577.,  899., 2383., 1818.]], device='cuda:0')\n"
     ]
    },
    {
     "name": "stderr",
     "output_type": "stream",
     "text": [
      "\n",
      "0: 480x640 3 peppers, 45.7ms\n",
      "Speed: 0.4ms preprocess, 45.7ms inference, 1.3ms postprocess per image at shape (1, 3, 640, 640)\n",
      "\n",
      "0: 480x640 2 peppers, 45.7ms\n",
      "Speed: 0.4ms preprocess, 45.7ms inference, 1.2ms postprocess per image at shape (1, 3, 640, 640)\n"
     ]
    },
    {
     "name": "stdout",
     "output_type": "stream",
     "text": [
      "tensor([[1517., 1330., 2419., 2114.]], device='cuda:0')\n",
      "tensor([[1738.,  524., 2133., 1066.]], device='cuda:0')\n",
      "tensor([[   0., 2962.,  212., 3023.]], device='cuda:0')\n",
      "tensor([[1457., 1024., 1774., 1404.]], device='cuda:0')\n",
      "tensor([[2654., 2274., 3008., 2640.]], device='cuda:0')\n"
     ]
    },
    {
     "name": "stderr",
     "output_type": "stream",
     "text": [
      "\n",
      "0: 480x640 4 peppers, 45.6ms\n",
      "Speed: 0.4ms preprocess, 45.6ms inference, 1.3ms postprocess per image at shape (1, 3, 640, 640)\n",
      "\n",
      "0: 480x640 1 pepper, 45.7ms\n",
      "Speed: 0.4ms preprocess, 45.7ms inference, 1.7ms postprocess per image at shape (1, 3, 640, 640)\n"
     ]
    },
    {
     "name": "stdout",
     "output_type": "stream",
     "text": [
      "tensor([[1224., 1193., 1573., 1529.]], device='cuda:0')\n",
      "tensor([[2117.,  967., 2352., 1144.]], device='cuda:0')\n",
      "tensor([[2352., 2330., 2582., 2587.]], device='cuda:0')\n",
      "tensor([[2346., 2314., 2696., 2586.]], device='cuda:0')\n",
      "tensor([[ 625., 1687.,  936., 2009.]], device='cuda:0')\n"
     ]
    },
    {
     "name": "stderr",
     "output_type": "stream",
     "text": [
      "\n",
      "0: 480x640 1 pepper, 45.7ms\n",
      "Speed: 0.4ms preprocess, 45.7ms inference, 1.3ms postprocess per image at shape (1, 3, 640, 640)\n",
      "\n",
      "0: 480x640 1 pepper, 45.7ms\n",
      "Speed: 0.4ms preprocess, 45.7ms inference, 1.2ms postprocess per image at shape (1, 3, 640, 640)\n"
     ]
    },
    {
     "name": "stdout",
     "output_type": "stream",
     "text": [
      "tensor([[2736., 2458., 3189., 2935.]], device='cuda:0')\n",
      "tensor([[1382., 1251., 1704., 1607.]], device='cuda:0')\n"
     ]
    },
    {
     "name": "stderr",
     "output_type": "stream",
     "text": [
      "\n",
      "0: 480x640 2 peppers, 45.7ms\n",
      "Speed: 0.4ms preprocess, 45.7ms inference, 1.2ms postprocess per image at shape (1, 3, 640, 640)\n",
      "\n",
      "0: 480x640 3 peppers, 45.7ms\n",
      "Speed: 0.4ms preprocess, 45.7ms inference, 1.3ms postprocess per image at shape (1, 3, 640, 640)\n"
     ]
    },
    {
     "name": "stdout",
     "output_type": "stream",
     "text": [
      "tensor([[2247.,  301., 2623.,  756.]], device='cuda:0')\n",
      "tensor([[ 767., 1316., 1131., 1768.]], device='cuda:0')\n",
      "tensor([[1448., 1130., 2299., 2094.]], device='cuda:0')\n",
      "tensor([[2499., 2361., 3380., 3024.]], device='cuda:0')\n",
      "tensor([[ 900., 2515., 1950., 3024.]], device='cuda:0')\n"
     ]
    },
    {
     "name": "stderr",
     "output_type": "stream",
     "text": [
      "\n",
      "0: 480x640 1 pepper, 47.3ms\n",
      "Speed: 0.6ms preprocess, 47.3ms inference, 1.3ms postprocess per image at shape (1, 3, 640, 640)\n",
      "\n",
      "0: 480x640 2 peppers, 48.6ms\n",
      "Speed: 0.4ms preprocess, 48.6ms inference, 1.3ms postprocess per image at shape (1, 3, 640, 640)\n"
     ]
    },
    {
     "name": "stdout",
     "output_type": "stream",
     "text": [
      "tensor([[ 927.,  733., 1300., 1167.]], device='cuda:0')\n",
      "tensor([[ 429., 1653.,  798., 2057.]], device='cuda:0')\n",
      "tensor([[1925.,  765., 2308., 1212.]], device='cuda:0')\n"
     ]
    },
    {
     "name": "stderr",
     "output_type": "stream",
     "text": [
      "\n",
      "0: 480x640 (no detections), 49.8ms\n",
      "Speed: 0.5ms preprocess, 49.8ms inference, 0.6ms postprocess per image at shape (1, 3, 640, 640)\n",
      "\n",
      "0: 480x640 (no detections), 50.1ms\n",
      "Speed: 0.4ms preprocess, 50.1ms inference, 0.6ms postprocess per image at shape (1, 3, 640, 640)\n",
      "\n",
      "0: 480x640 2 peppers, 50.0ms\n",
      "Speed: 0.5ms preprocess, 50.0ms inference, 2.0ms postprocess per image at shape (1, 3, 640, 640)\n",
      "\n",
      "0: 480x640 1 pepper, 50.3ms\n",
      "Speed: 0.4ms preprocess, 50.3ms inference, 1.7ms postprocess per image at shape (1, 3, 640, 640)\n"
     ]
    },
    {
     "name": "stdout",
     "output_type": "stream",
     "text": [
      "tensor([[ 755., 1721., 1075., 2122.]], device='cuda:0')\n",
      "tensor([[2184.,  808., 2549., 1209.]], device='cuda:0')\n",
      "tensor([[2065.,  821., 2460., 1237.]], device='cuda:0')\n"
     ]
    },
    {
     "name": "stderr",
     "output_type": "stream",
     "text": [
      "\n",
      "0: 480x640 2 peppers, 51.5ms\n",
      "Speed: 0.4ms preprocess, 51.5ms inference, 1.2ms postprocess per image at shape (1, 3, 640, 640)\n",
      "\n"
     ]
    },
    {
     "name": "stdout",
     "output_type": "stream",
     "text": [
      "tensor([[1493., 1702., 1802., 2125.]], device='cuda:0')\n",
      "tensor([[1308., 1672., 1453., 1777.]], device='cuda:0')\n"
     ]
    },
    {
     "name": "stderr",
     "output_type": "stream",
     "text": [
      "0: 480x640 1 pepper, 52.3ms\n",
      "Speed: 0.4ms preprocess, 52.3ms inference, 1.2ms postprocess per image at shape (1, 3, 640, 640)\n",
      "\n",
      "0: 480x640 1 pepper, 52.3ms\n",
      "Speed: 0.5ms preprocess, 52.3ms inference, 1.3ms postprocess per image at shape (1, 3, 640, 640)\n"
     ]
    },
    {
     "name": "stdout",
     "output_type": "stream",
     "text": [
      "tensor([[1729.,  841., 2568., 1858.]], device='cuda:0')\n",
      "tensor([[2105.,  903., 2741., 1771.]], device='cuda:0')\n"
     ]
    },
    {
     "name": "stderr",
     "output_type": "stream",
     "text": [
      "\n",
      "0: 480x640 1 pepper, 52.3ms\n",
      "Speed: 0.5ms preprocess, 52.3ms inference, 1.4ms postprocess per image at shape (1, 3, 640, 640)\n",
      "\n"
     ]
    },
    {
     "name": "stdout",
     "output_type": "stream",
     "text": [
      "tensor([[1578.,  623., 2751., 1959.]], device='cuda:0')\n"
     ]
    },
    {
     "name": "stderr",
     "output_type": "stream",
     "text": [
      "0: 480x640 3 peppers, 53.4ms\n",
      "Speed: 1.4ms preprocess, 53.4ms inference, 1.3ms postprocess per image at shape (1, 3, 640, 640)\n",
      "\n",
      "0: 480x640 2 peppers, 52.4ms\n",
      "Speed: 0.6ms preprocess, 52.4ms inference, 1.3ms postprocess per image at shape (1, 3, 640, 640)\n"
     ]
    },
    {
     "name": "stdout",
     "output_type": "stream",
     "text": [
      "tensor([[1736., 1119., 2063., 1440.]], device='cuda:0')\n",
      "tensor([[2866., 2522., 3290., 2924.]], device='cuda:0')\n",
      "tensor([[2025., 1444., 2164., 1654.]], device='cuda:0')\n",
      "tensor([[ 749., 1782., 1006., 2081.]], device='cuda:0')\n",
      "tensor([[2111.,  874., 2483., 1278.]], device='cuda:0')\n"
     ]
    },
    {
     "name": "stderr",
     "output_type": "stream",
     "text": [
      "\n",
      "0: 480x640 1 pepper, 52.4ms\n",
      "Speed: 0.5ms preprocess, 52.4ms inference, 3.6ms postprocess per image at shape (1, 3, 640, 640)\n",
      "\n",
      "0: 480x640 3 peppers, 52.3ms\n",
      "Speed: 0.4ms preprocess, 52.3ms inference, 1.3ms postprocess per image at shape (1, 3, 640, 640)\n"
     ]
    },
    {
     "name": "stdout",
     "output_type": "stream",
     "text": [
      "tensor([[2102., 1625., 2776., 2274.]], device='cuda:0')\n"
     ]
    },
    {
     "name": "stderr",
     "output_type": "stream",
     "text": [
      "\n"
     ]
    },
    {
     "name": "stdout",
     "output_type": "stream",
     "text": [
      "tensor([[2351., 1153., 2449., 1274.]], device='cuda:0')\n",
      "tensor([[ 612., 1801.,  889., 2104.]], device='cuda:0')\n",
      "tensor([[2440., 1055., 2508., 1154.]], device='cuda:0')\n"
     ]
    },
    {
     "name": "stderr",
     "output_type": "stream",
     "text": [
      "0: 480x640 1 pepper, 52.4ms\n",
      "Speed: 0.4ms preprocess, 52.4ms inference, 2.0ms postprocess per image at shape (1, 3, 640, 640)\n",
      "\n",
      "0: 480x640 1 pepper, 52.5ms\n",
      "Speed: 0.4ms preprocess, 52.5ms inference, 1.4ms postprocess per image at shape (1, 3, 640, 640)\n"
     ]
    },
    {
     "name": "stdout",
     "output_type": "stream",
     "text": [
      "tensor([[2112., 1575., 2690., 2391.]], device='cuda:0')\n",
      "tensor([[ 749., 1641., 1013., 1950.]], device='cuda:0')\n"
     ]
    },
    {
     "name": "stderr",
     "output_type": "stream",
     "text": [
      "\n",
      "0: 480x640 1 pepper, 52.3ms\n",
      "Speed: 0.5ms preprocess, 52.3ms inference, 2.0ms postprocess per image at shape (1, 3, 640, 640)\n",
      "\n"
     ]
    },
    {
     "name": "stdout",
     "output_type": "stream",
     "text": [
      "tensor([[1691.,  803., 2025., 1246.]], device='cuda:0')\n"
     ]
    },
    {
     "name": "stderr",
     "output_type": "stream",
     "text": [
      "0: 480x640 1 pepper, 52.3ms\n",
      "Speed: 0.4ms preprocess, 52.3ms inference, 2.0ms postprocess per image at shape (1, 3, 640, 640)\n",
      "\n",
      "0: 480x640 1 pepper, 52.3ms\n",
      "Speed: 0.5ms preprocess, 52.3ms inference, 2.0ms postprocess per image at shape (1, 3, 640, 640)\n"
     ]
    },
    {
     "name": "stdout",
     "output_type": "stream",
     "text": [
      "tensor([[1403.,  587., 1804., 1048.]], device='cuda:0')\n",
      "tensor([[3.19000e+03, 4.00000e+00, 4.02900e+03, 7.75000e+02]], device='cuda:0')\n"
     ]
    },
    {
     "name": "stderr",
     "output_type": "stream",
     "text": [
      "\n",
      "0: 480x640 1 pepper, 52.7ms\n",
      "Speed: 0.5ms preprocess, 52.7ms inference, 2.3ms postprocess per image at shape (1, 3, 640, 640)\n"
     ]
    },
    {
     "name": "stdout",
     "output_type": "stream",
     "text": [
      "tensor([[1391., 1164., 2595., 2188.]], device='cuda:0')\n"
     ]
    }
   ],
   "source": [
    "imgs_path = all_images_in_folder(path)\n",
    "for img_path in imgs_path:\n",
    "    inputs = read_image(img_path)\n",
    "    results = model(inputs)\n",
    "    for result in results:\n",
    "        for box in result.boxes:\n",
    "            for real_box in box:\n",
    "                print(real_box.xyxy)\n",
    "    # boxes = results[0].boxes\n",
    "    # box = boxes[0]  # returns one box\n",
    "    # print(box.xyxy)"
   ],
   "metadata": {
    "collapsed": false
   }
  },
  {
   "cell_type": "code",
   "execution_count": null,
   "outputs": [],
   "source": [],
   "metadata": {
    "collapsed": false
   }
  }
 ],
 "metadata": {
  "kernelspec": {
   "display_name": "Python 3",
   "language": "python",
   "name": "python3"
  },
  "language_info": {
   "codemirror_mode": {
    "name": "ipython",
    "version": 2
   },
   "file_extension": ".py",
   "mimetype": "text/x-python",
   "name": "python",
   "nbconvert_exporter": "python",
   "pygments_lexer": "ipython2",
   "version": "2.7.6"
  }
 },
 "nbformat": 4,
 "nbformat_minor": 0
}
